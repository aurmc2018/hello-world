{
 "cells": [
  {
   "cell_type": "code",
   "execution_count": 78,
   "metadata": {},
   "outputs": [],
   "source": [
    "# Python divides the operators in the following groups:\n",
    "\n",
    "# Arithmetic operators   + -  * / % ** // \n",
    "# Assignment operators  =   +=  -= *= /= %= //= **=  &= |= ^= >>= <<= \n",
    "# Comparison operators == != > < >= <=\n",
    "# Logical operators and or not \n",
    "# Identity operators is is not \n",
    "# Membership operators in not in \n",
    "# Bitwise operators & |  ^ ~ << >>\n",
    "\n",
    "\n"
   ]
  },
  {
   "cell_type": "code",
   "execution_count": 79,
   "metadata": {},
   "outputs": [
    {
     "name": "stdout",
     "output_type": "stream",
     "text": [
      "x= 911\n",
      "y= 247\n",
      "\n",
      "x+y= 1158\n",
      "x-y= 664\n",
      "x*y= 225017\n",
      "x/y= 3.688259109311741\n",
      "\n",
      "3**2= 9\n",
      "\n",
      "x%y= 170\n",
      "x//y= 3\n",
      "911\n"
     ]
    }
   ],
   "source": [
    "\n",
    "# Arithmetic operators   + -  * / % ** // \n",
    "\n",
    "x,y = 911,247\n",
    "print('x=',x)\n",
    "print('y=',y)\n",
    "print()\n",
    "\n",
    "print('x+y=',x+y)\n",
    "print('x-y=',x-y)\n",
    "print('x*y=',x*y)\n",
    "print('x/y=',x/y)\n",
    "\n",
    "print()\n",
    "print('3**2=',3**2) #Exponentiation\n",
    "\n",
    "print()\n",
    "print('x%y=',x%y) #Modulus\n",
    "print('x//y=',x//y)# FloorDivision\n",
    "\n",
    "z = (y * ( x // y) + (x % y))\n",
    "print(z)        # check Modulus + floor division\n",
    "\n"
   ]
  },
  {
   "cell_type": "code",
   "execution_count": 80,
   "metadata": {},
   "outputs": [
    {
     "name": "stdout",
     "output_type": "stream",
     "text": [
      "5 3\n",
      "\n",
      "a += b         8\n",
      "a -= b         5\n",
      "a -= 5         15\n",
      "a /= b         5.0\n",
      "\n",
      "a **= b        125.0\n",
      "a %= b         2.0\n",
      "a //= b        0.0\n",
      "\n",
      "a &= b        1\n",
      "a |= b        3\n",
      "a ^= b        0\n",
      "\n",
      "a <<= b       40\n",
      "a >>= b       5\n"
     ]
    }
   ],
   "source": [
    "# Assignment operators  =   +=  -= *= /= %= //= **=  &= |= ^= >>= <<= \n",
    "a = 5\n",
    "b =  3\n",
    "print(a,b)\n",
    "print()\n",
    "\n",
    "a += b\n",
    "print('a += b        ' ,a)\n",
    "a -= b\n",
    "print('a -= b        ' ,a)\n",
    "a *= b\n",
    "print('a -= 5        ' ,a)\n",
    "a /= b\n",
    "print('a /= b        ' ,a)\n",
    "\n",
    "print()\n",
    "a **= b\n",
    "print('a **= b       ' ,a)\n",
    "a %= b \n",
    "print('a %= b        ' ,a)\n",
    "a //= b\n",
    "print('a //= b       ' ,a)\n",
    "print()\n",
    "\n",
    "a=5\n",
    "b=3\n",
    "a &= b\n",
    "print('a &= b       ' ,a)\n",
    "a |= b \n",
    "print('a |= b       ' ,a)\n",
    "a ^= b\n",
    "print('a ^= b       ' ,a)\n",
    "print()\n",
    "\n",
    "a=5\n",
    "b=3\n",
    "a <<=b\n",
    "print('a <<= b      ' ,a)\n",
    "a >>=b \n",
    "print('a >>= b      ' ,a)\n",
    "\n",
    "\n",
    "\n",
    "\n"
   ]
  },
  {
   "cell_type": "code",
   "execution_count": 81,
   "metadata": {},
   "outputs": [
    {
     "name": "stdout",
     "output_type": "stream",
     "text": [
      "15 13\n",
      "\n",
      "a == b         False\n",
      "a != b         True\n",
      "a >  b         True\n",
      "a <  b         False\n",
      "a >=  b        True\n",
      "a <=  b        False\n",
      "\n"
     ]
    }
   ],
   "source": [
    "# Comparison operators == != > < >= <=\n",
    "\n",
    "\n",
    "a = 15\n",
    "b =  13\n",
    "print(a,b)\n",
    "print()\n",
    "\n",
    "print('a == b        ' ,a==b)\n",
    "print('a != b        ' ,a!=b)\n",
    "print('a >  b        ' ,a>b)\n",
    "print('a <  b        ' ,a<b)\n",
    "print('a >=  b       ' ,a>=b)\n",
    "print('a <=  b       ' ,a<=b)\n",
    "\n",
    "print()\n"
   ]
  },
  {
   "cell_type": "code",
   "execution_count": null,
   "metadata": {},
   "outputs": [],
   "source": []
  },
  {
   "cell_type": "code",
   "execution_count": 88,
   "metadata": {},
   "outputs": [
    {
     "name": "stdout",
     "output_type": "stream",
     "text": [
      "a>4 and a <11      True\n",
      "\n",
      "a>4 or a <11        True\n",
      "\n",
      "not(a>4 and a <11)  False\n",
      "\n"
     ]
    }
   ],
   "source": [
    " #Logical operators and or not \n",
    "    \n",
    "a=6\n",
    "\n",
    "print ('a>4 and a <11     ',a>4 and a<11)\n",
    "print()\n",
    "print('a>4 or a <11       ', a>4 or a<11)\n",
    "print()\n",
    "print('not(a>4 and a <11) ', not(a>4 and a<11))\n",
    "print()\n",
    "\n",
    "    \n",
    "    "
   ]
  },
  {
   "cell_type": "code",
   "execution_count": null,
   "metadata": {},
   "outputs": [],
   "source": []
  },
  {
   "cell_type": "code",
   "execution_count": null,
   "metadata": {},
   "outputs": [],
   "source": []
  }
 ],
 "metadata": {
  "kernelspec": {
   "display_name": "Python 3",
   "language": "python",
   "name": "python3"
  },
  "language_info": {
   "codemirror_mode": {
    "name": "ipython",
    "version": 3
   },
   "file_extension": ".py",
   "mimetype": "text/x-python",
   "name": "python",
   "nbconvert_exporter": "python",
   "pygments_lexer": "ipython3",
   "version": "3.7.1"
  }
 },
 "nbformat": 4,
 "nbformat_minor": 2
}
