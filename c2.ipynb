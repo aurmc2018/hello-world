{
 "cells": [
  {
   "cell_type": "code",
   "execution_count": 17,
   "metadata": {},
   "outputs": [
    {
     "name": "stdout",
     "output_type": "stream",
     "text": [
      "x= 911\n",
      "y= 247\n",
      "\n",
      "x+y= 1158\n",
      "x-y= 664\n",
      "x*y= 225017\n",
      "x/y= 3.688259109311741\n",
      "\n",
      "3**2= 9\n",
      "\n",
      "x%y= 170\n",
      "x//y= 3\n",
      "911\n"
     ]
    }
   ],
   "source": [
    "# Python divides the operators in the following groups:\n",
    "\n",
    "# Arithmetic operators   + -  * / % ** // \n",
    "# Assignment operators  =   +=  -= *= /= %= //= **=  &= |= ^= >>= <<= \n",
    "# Comparison operators == != > < >= <=\n",
    "# Logical operators and or not \n",
    "# Identity operators is is not \n",
    "# Membership operators in not in \n",
    "# Bitwise operators & |  ^ ~ << >>\n",
    "\n",
    "\n",
    "\n",
    "# Arithmetic operators   + -  * / % ** // \n",
    "\n",
    "x,y = 911,247\n",
    "print('x=',x)\n",
    "print('y=',y)\n",
    "print()\n",
    "\n",
    "print('x+y=',x+y)\n",
    "print('x-y=',x-y)\n",
    "print('x*y=',x*y)\n",
    "print('x/y=',x/y)\n",
    "\n",
    "print()\n",
    "print('3**2=',3**2) #Exponentiation\n",
    "\n",
    "print()\n",
    "print('x%y=',x%y) #Modulus\n",
    "print('x//y=',x//y)# FloorDivision\n",
    "\n",
    "z = (y * ( x // y) + (x % y))\n",
    "print(z)        # check Modulus + floor division\n",
    "\n"
   ]
  },
  {
   "cell_type": "code",
   "execution_count": 25,
   "metadata": {},
   "outputs": [],
   "source": [
    "# Python divides the operators in the following groups:\n",
    "\n",
    "# Comparison operators == != > < >= <=\n",
    "# Logical operators and or not \n",
    "# Identity operators is is not \n",
    "# Membership operators in not in \n",
    "# Bitwise operators & |  ^ ~ << >>\n"
   ]
  },
  {
   "cell_type": "code",
   "execution_count": 27,
   "metadata": {},
   "outputs": [
    {
     "name": "stdout",
     "output_type": "stream",
     "text": [
      "5\n",
      "\n",
      "a += 5         10\n"
     ]
    }
   ],
   "source": [
    "a = 15\n",
    "print(a)\n",
    "print()\n",
    "\n",
    "a += 5\n",
    "print('a += 5        ' ,a)\n",
    "a -= 5\n",
    "print('a -= 5        ' ,a)\n",
    "a *= 5\n",
    "print('a -= 5        ' ,a)\n",
    "a /= 5\n",
    "print('a /= 5        ' ,a)\n",
    "\n",
    "print()\n",
    "a **= 5\n",
    "print('a **= 5        ' ,a)\n",
    "a %= 5\n",
    "print('a %= 5        ' ,a)\n",
    "a //= 5\n",
    "print('a //= 5        ' ,a)\n",
    "print()\n",
    "\n",
    "\n"
   ]
  },
  {
   "cell_type": "code",
   "execution_count": null,
   "metadata": {},
   "outputs": [],
   "source": []
  }
 ],
 "metadata": {
  "kernelspec": {
   "display_name": "Python 3",
   "language": "python",
   "name": "python3"
  },
  "language_info": {
   "codemirror_mode": {
    "name": "ipython",
    "version": 3
   },
   "file_extension": ".py",
   "mimetype": "text/x-python",
   "name": "python",
   "nbconvert_exporter": "python",
   "pygments_lexer": "ipython3",
   "version": "3.7.1"
  }
 },
 "nbformat": 4,
 "nbformat_minor": 2
}
