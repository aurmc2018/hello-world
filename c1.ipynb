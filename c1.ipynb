{
 "cells": [
  {
   "cell_type": "code",
   "execution_count": 31,
   "metadata": {},
   "outputs": [
    {
     "name": "stdout",
     "output_type": "stream",
     "text": [
      "143\n",
      "<class 'int'>\n",
      "3.143\n",
      "<class 'float'>\n",
      "True\n",
      "<class 'bool'>\n",
      "I love you -SQ \n",
      "<class 'str'>\n",
      "i Love You - DQ\n",
      " \n",
      "                I\n",
      "                love \n",
      "                You - TQ\n",
      "            \n",
      "2\n",
      "3.0\n",
      "(1, 4, 3)\n",
      "<class 'tuple'>\n",
      "[1, 4, 3]\n",
      "<class 'list'>\n",
      "{'no': 1, 'name': 'CMR', 'DOB': 111111}\n",
      "<class 'dict'>\n",
      "15 15.5 FIFTEEN \n",
      "{'banana', 'apple', 'cherry'}\n",
      "<class 'set'>\n"
     ]
    }
   ],
   "source": [
    "##Definitions\n",
    "#-------------------------------------------------------------------\n",
    "#int\n",
    "a_int = 143\n",
    "print(a_int)\n",
    "print(type(a_int))\n",
    "#-------------------------------------------------------------------\n",
    "#float\n",
    "a_float = 3.143\n",
    "print(a_float)\n",
    "print(type(a_float))\n",
    "#-------------------------------------------------------------------\n",
    "#boolean\n",
    "a_boolean = True\n",
    "print(a_boolean)\n",
    "print(type(a_boolean))\n",
    "#--------------------------------------------------------------------\n",
    "#string\n",
    "a_string = 'I love you -SQ '\n",
    "print(a_string)\n",
    "print(type(a_string))\n",
    "dq_string =\"i Love You - DQ\"\n",
    "tq_string = \"\"\" \n",
    "                I\n",
    "                love \n",
    "                You - TQ\n",
    "            \"\"\"\n",
    "print(dq_string)\n",
    "print(tq_string)\n",
    "\n",
    "\n",
    "print(str(2)) #  String '2' not 2 int \n",
    "print(str(3.0)) # String '3.0'not 3.0 float\n",
    "#-------------------------------------------------------------------\n",
    "#Tuple() \n",
    "a_tuple = (1, 4, 3)\n",
    "print(a_tuple)\n",
    "print(type(a_tuple))\n",
    "#-------------------------------------------------------------------\n",
    "#list []\n",
    "a_list = [1, 4, 3]\n",
    "print(a_list)\n",
    "print(type(a_list))\n",
    "#-------------------------------------------------------------------\n",
    "#dict {}\n",
    "a_dict = {\"no\":1, \"name\":'CMR', \"DOB\": 111111}\n",
    "print(a_dict)\n",
    "print(type(a_dict))\n",
    "#-------------------------------------------------------------------\n",
    "#multiple definitions  in a sigle assignment\n",
    "b_int, b_float, b_str =15,15.50, 'FIFTEEN '\n",
    "print(b_int,b_float,b_str)\n",
    "#-------------------------------------------------------------------\n",
    "#set \n",
    "x = set((\"apple\", \"banana\", \"cherry\"))\n",
    "#display x:\n",
    "print(x)\n",
    "#display the data type of x:\n",
    "print(type(x)) "
   ]
  },
  {
   "cell_type": "code",
   "execution_count": null,
   "metadata": {},
   "outputs": [],
   "source": [
    "#Variable Conventions\n",
    "\n",
    "#Variable Name Conventions\n",
    "#1Camel case  myFirstVariable\n",
    "#2Pascal Case MyFirstVariable\n",
    "#3Snake Case my_first_variable\n",
    "\n",
    "# We followed the Snakecase like a_listetc."
   ]
  },
  {
   "cell_type": "code",
   "execution_count": null,
   "metadata": {},
   "outputs": [],
   "source": []
  }
 ],
 "metadata": {
  "kernelspec": {
   "display_name": "Python 3",
   "language": "python",
   "name": "python3"
  },
  "language_info": {
   "codemirror_mode": {
    "name": "ipython",
    "version": 3
   },
   "file_extension": ".py",
   "mimetype": "text/x-python",
   "name": "python",
   "nbconvert_exporter": "python",
   "pygments_lexer": "ipython3",
   "version": "3.7.1"
  }
 },
 "nbformat": 4,
 "nbformat_minor": 2
}
